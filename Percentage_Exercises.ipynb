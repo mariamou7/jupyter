{
  "metadata": {
    "kernelspec": {
      "name": "python",
      "display_name": "Python (Pyodide)",
      "language": "python"
    },
    "language_info": {
      "codemirror_mode": {
        "name": "python",
        "version": 3
      },
      "file_extension": ".py",
      "mimetype": "text/x-python",
      "name": "python",
      "nbconvert_exporter": "python",
      "pygments_lexer": "ipython3",
      "version": "3.8"
    }
  },
  "nbformat_minor": 5,
  "nbformat": 4,
  "cells": [
    {
      "id": "5ca7a010-5878-48c7-8cbe-d36505f8c562",
      "cell_type": "code",
      "source": "αρχικη_τιμη = 40\nποσοστο_εκπτωσης = 15/100\nεκπτωση = ποσοστο_εκπτωσης * αρχικη_τιμη\n\nτελικη_τιμη = αρχικη_τιμη - εκπτωση\n\nprint(f\"Η τελική τιμή είναι: {τελικη_τιμη}\")\n",
      "metadata": {
        "trusted": true
      },
      "outputs": [
        {
          "name": "stdout",
          "text": "Η τελική τιμή είναι: 34.0\n",
          "output_type": "stream"
        }
      ],
      "execution_count": 10
    },
    {
      "id": "70c87e01-49d5-4cbf-b91b-66b63e30a69d",
      "cell_type": "code",
      "source": "κεφαλαιο = 5000\nεπιτοκιο = 0.04\nτοκος = επιτοκιο * κεφαλαιο\n\nποσο_αναληψης = κεφαλαιο + τοκος\n\nprint(f\"Το ποσο αναληψης είναι: {ποσο_αναληψης}\")\n",
      "metadata": {
        "trusted": true
      },
      "outputs": [
        {
          "name": "stdout",
          "text": "Το ποσο αναληψης είναι: 5200.0\n",
          "output_type": "stream"
        }
      ],
      "execution_count": 2
    },
    {
      "id": "f69ba379-1f73-471f-886e-8a698216b56f",
      "cell_type": "code",
      "source": "ΑΤ = 50\nΤΤ = 44\nΕκπτωση = ΑΤ - ΤΤ\n\nΠοσοστο_εκπτωσης = Εκπτωση / ΑΤ\n\nprint(f\"Το ποσοστό έκπτωσης είναι: {Ποσοστο_εκπτωσης}\")\n",
      "metadata": {
        "trusted": true
      },
      "outputs": [
        {
          "name": "stdout",
          "text": "Το ποσοστό έκπτωσης είναι: 0.12\n",
          "output_type": "stream"
        }
      ],
      "execution_count": 4
    },
    {
      "id": "663b1975-087d-4d23-89e4-5b902e9fe631",
      "cell_type": "code",
      "source": "Καθαρη_αξια = 1695\nΤιμη_πωλησης = 2000\nΦΠΑ = Τιμη_πωλησης - Καθαρη_αξια\n\nΣυντελεστης_ΦΠΑ = ΦΠΑ / Καθαρη_αξια\n\nprint(f\"Ο συντελεστής ΦΠΑ είναι: {Συντελεστης_ΦΠΑ}\")\n",
      "metadata": {
        "trusted": true
      },
      "outputs": [
        {
          "name": "stdout",
          "text": "Ο συντελεστής ΦΠΑ είναι: 0.17994100294985252\n",
          "output_type": "stream"
        }
      ],
      "execution_count": 5
    },
    {
      "id": "340fec9b-f166-4483-a896-ac3a43d7632f",
      "cell_type": "code",
      "source": "ΤΤ = 17\nΠοσοστο_εκπτωσης = 0.15\n\nΠοσοστο_πληρωμης = 1 - Ποσοστο_εκπτωσης\nprint(f\"ποσοστό πληρωμής: {Ποσοστο_πληρωμης}\")\n\nΠοσοσστο_πληρωμης_ΕΠΙ_100 = Ποσοστο_πληρωμης * 100\nprint(f\"Ποσοσστο_πληρωμης_ΕΠΙ_100: {Ποσοσστο_πληρωμης_ΕΠΙ_100}\")\n\nΑΤ_ΔΙΑ_100 = ΤΤ / Ποσοσστο_πληρωμης_ΕΠΙ_100\nprint(f\"ΑΤ_ΔΙΑ_100: {ΑΤ_ΔΙΑ_100}\")\n\nΑΤ = ΑΤ_ΔΙΑ_100 * 100\n\nprint(f\"Η αρχική τιμή είναι: {ΑΤ}\")\n",
      "metadata": {
        "trusted": true
      },
      "outputs": [
        {
          "name": "stdout",
          "text": "ποσοστό πληρωμής: 0.85\nΠοσοσστο_πληρωμης_ΕΠΙ_100: 85.0\nΑΤ_ΔΙΑ_100: 0.2\nΗ αρχική τιμή είναι: 20.0\n",
          "output_type": "stream"
        }
      ],
      "execution_count": 13
    },
    {
      "id": "fe4d8a55-42d9-44f4-a788-29660fbff677",
      "cell_type": "code",
      "source": "Τιμη_πωλησης = 1416\nΣυντελεστης_ΦΠΑ = 0.18\n\nΠοσοστο_πωλησης = 1 + Συντελεστης_ΦΠΑ\nΠοσοσστο_πωλησης_ΕΠΙ_100 = Ποσοστο_πωλησης * 100\n\nΚΑ_ΔΙΑ_100 = Τιμη_πωλησης / Ποσοσστο_πωλησης_ΕΠΙ_100\n\nΚΑ = ΚΑ_ΔΙΑ_100 * 100\n\n\nprint(f\"Η καθαρή αξία είναι: {ΚΑ}\")\n",
      "metadata": {
        "trusted": true
      },
      "outputs": [
        {
          "name": "stdout",
          "text": "Η καθαρή αξία είναι: 1200.0\n",
          "output_type": "stream"
        }
      ],
      "execution_count": 7
    },
    {
      "id": "5f38d7be-7ef0-4fb0-a781-efe2f496ba6e",
      "cell_type": "code",
      "source": "",
      "metadata": {
        "trusted": true
      },
      "outputs": [],
      "execution_count": null
    }
  ]
}