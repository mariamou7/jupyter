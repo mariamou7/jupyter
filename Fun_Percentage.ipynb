{
 "cells": [
  {
   "cell_type": "markdown",
   "id": "3377d12d-b9bb-4743-9f7a-f89b0a8221e1",
   "metadata": {},
   "source": [
    "# Εισαγωγή"
   ]
  },
  {
   "cell_type": "markdown",
   "id": "0d814d7f-7469-4ba2-acdb-bf284765032f",
   "metadata": {},
   "source": [
    "Καλωσορίσατε σε αυτό το ιδιαίτερο βιβλίο. 📖\n",
    "\n",
    "Με το βιβλίο αυτό, θα κάνουμε μία επανάληψη στον κόσμο των ποσοστών και θα λύσουμε ενδιαφέροντα προβλήματα! 🤩"
   ]
  },
  {
   "cell_type": "markdown",
   "id": "23634f53-0420-44f4-b8e3-e331cd668257",
   "metadata": {},
   "source": [
    "## Τι θα μάθουμε σε αυτό το βιβλίο;"
   ]
  },
  {
   "cell_type": "markdown",
   "id": "a44b573b-ee02-4d04-bf04-b6b51833ca74",
   "metadata": {},
   "source": [
    "Σε αυτό το βιβλίο, θα θυμηθούμε:  \n",
    "\n",
    "✔ Τι είναι τα ποσοστά.  \n",
    "✔ Πώς υπολογίζονται τα ποσοστά.   \n",
    "\n",
    "Επίσης, θα μάθουμε:  \n",
    "✔ Πώς να λύνουμε προβλήματα που σχετίζονται με ποσοστά.  \n",
    "✔ Να χρησιμοποιούμε τον προγραμματισμό για να λύσουμε προβλήματα με ποσοστά.  \n",
    "\n",
    "Είστε έτοιμοι να ξεκινήσουμε; 🙌🙌"
   ]
  },
  {
   "cell_type": "markdown",
   "id": "386ed610-4004-4f35-9535-e3fdce614c9b",
   "metadata": {},
   "source": [
    "# Δραστηριότητα 0: Εισαγωγική δραστηριότητα"
   ]
  },
  {
   "cell_type": "markdown",
   "id": "0d4eab8a-2141-44fd-853e-ab6eeff124d0",
   "metadata": {},
   "source": [
    "## Ας αναλογιστούμε..."
   ]
  },
  {
   "cell_type": "markdown",
   "id": "b06188b3-07a0-443e-a61d-84a4d8468ccc",
   "metadata": {},
   "source": [
    "Σε πολλές περιπτώσεις της καθημερινής μας ζωής ακούμε εκφράσεις όπως τις παρακάτω.  \n",
    "\n",
    "Προσπάθησε να εξηγήσεις τι ακριβώς εννοούμε κάθε φορά με αυτές τις εκφράσεις."
   ]
  },
  {
   "cell_type": "markdown",
   "id": "24497939-02f9-47c1-bb2a-bf6628fa539f",
   "metadata": {},
   "source": [
    "- Πήρε αύξηση 14%."
   ]
  },
  {
   "cell_type": "markdown",
   "id": "02eadd70-bcfe-4e4c-bb65-bfa5f8596b79",
   "metadata": {},
   "source": [
    "Απάντηση:"
   ]
  },
  {
   "cell_type": "markdown",
   "id": "ece46d40-755b-428a-ad2f-820d568ecd86",
   "metadata": {},
   "source": [
    "- Ένα μαγαζί έκανε εκπτώσεις 60%."
   ]
  },
  {
   "cell_type": "markdown",
   "id": "19f65ae3-0851-4c53-a647-52d271597b08",
   "metadata": {},
   "source": [
    "Απάντηση:"
   ]
  },
  {
   "cell_type": "markdown",
   "id": "e65e2d69-909e-4cbc-bf3a-d31040b80042",
   "metadata": {},
   "source": [
    "\n",
    "- Η ευρύτερη περιοχή της Αθήνας καταλαμβάνει το 3% της έκτασης της Ελλάδας και εκεί κατοικεί το 45% του πληθυσμού της Ελλάδας."
   ]
  },
  {
   "cell_type": "markdown",
   "id": "43fa4930-5f9f-4451-ab02-2e83db953e20",
   "metadata": {},
   "source": [
    "Απάντηση:"
   ]
  },
  {
   "cell_type": "markdown",
   "id": "30625d5d-5dff-4db1-9fa7-1ff5d8962aca",
   "metadata": {},
   "source": [
    "- Φόρος Προστιθέμενης Αξίας (ΦΠΑ) 19%."
   ]
  },
  {
   "cell_type": "markdown",
   "id": "e92f68e6-8516-4bfb-af2e-337c1c22b62f",
   "metadata": {},
   "source": [
    "Απάντηση:"
   ]
  },
  {
   "cell_type": "markdown",
   "id": "61b54135-d7fe-47d9-b351-5adba36364c2",
   "metadata": {},
   "source": [
    "# Δραστηριότητα 1"
   ]
  },
  {
   "cell_type": "markdown",
   "id": "4875d074-49b6-49b5-a1c2-0f45987b2a26",
   "metadata": {},
   "source": [
    "- Μπορείς να βρεις τι ποσοστό του πλέγματος είναι χρωματισμένο μπλε;"
   ]
  },
  {
   "cell_type": "code",
   "execution_count": 27,
   "id": "508a8d8e-13c2-4733-84d8-33b71cfa1087",
   "metadata": {},
   "outputs": [
    {
     "data": {
      "text/html": [
       "<iframe src=\"https://www.geogebra.org/classic/razhxpcm?embed\" width=\"800\" height=\"600\" allowfullscreen style=\"border: 1px solid #e4e4e4;border-radius: 4px;\" frameborder=\"0\"></iframe>\n"
      ],
      "text/plain": [
       "<IPython.core.display.HTML object>"
      ]
     },
     "metadata": {},
     "output_type": "display_data"
    }
   ],
   "source": [
    "%%html\n",
    "<iframe src=\"https://www.geogebra.org/classic/razhxpcm?embed\" width=\"800\" height=\"600\" allowfullscreen style=\"border: 1px solid #e4e4e4;border-radius: 4px;\" frameborder=\"0\"></iframe>"
   ]
  },
  {
   "cell_type": "markdown",
   "id": "c8908662-7e73-4f0e-a8e8-dfa7d86ae187",
   "metadata": {},
   "source": [
    "Πόσες σωστές απαντήσεις βρήκες;"
   ]
  },
  {
   "cell_type": "markdown",
   "id": "11bf8980-d7d2-4c66-85c6-4c046a6ab97d",
   "metadata": {},
   "source": [
    "Απάντηση:"
   ]
  },
  {
   "cell_type": "markdown",
   "id": "69bcc65f-fa80-471e-9c86-c3869f7f4222",
   "metadata": {},
   "source": [
    "# Δραστηριότητα 2"
   ]
  },
  {
   "cell_type": "markdown",
   "id": "9c314ecb-2130-486a-abf8-ffb7fff2cea1",
   "metadata": {},
   "source": [
    "## Ας θυμηθούμε..."
   ]
  },
  {
   "cell_type": "code",
   "execution_count": 7,
   "id": "331c58e8-5122-492b-99fb-b1f1cecb45da",
   "metadata": {
    "scrolled": true
   },
   "outputs": [
    {
     "data": {
      "text/html": [
       "<iframe width=\"500\" height=\"280\" src=\"https://www.youtube.com/embed/jXN-Hbjc1bU?si=MavzntOaiyCFNytG\" title=\"YouTube video player\" frameborder=\"0\" allow=\"accelerometer; autoplay; clipboard-write; encrypted-media; gyroscope; picture-in-picture; web-share\" referrerpolicy=\"strict-origin-when-cross-origin\" allowfullscreen></iframe>\n"
      ],
      "text/plain": [
       "<IPython.core.display.HTML object>"
      ]
     },
     "metadata": {},
     "output_type": "display_data"
    }
   ],
   "source": [
    "%%html\n",
    "<iframe width=\"500\" height=\"280\" src=\"https://www.youtube.com/embed/jXN-Hbjc1bU?si=MavzntOaiyCFNytG\" title=\"YouTube video player\" frameborder=\"0\" allow=\"accelerometer; autoplay; clipboard-write; encrypted-media; gyroscope; picture-in-picture; web-share\" referrerpolicy=\"strict-origin-when-cross-origin\" allowfullscreen></iframe>"
   ]
  },
  {
   "cell_type": "markdown",
   "id": "0b4a3dda-c87d-4723-b989-677565527b72",
   "metadata": {},
   "source": [
    "Χρήσιμες οδηγίες – κανόνες, οι οποίοι μπορούν να  βοηθήσουν στην επίλυση των παρακάτω προβλημάτων: \n",
    "\n",
    "Ποσοστό αύξησης % είναι η αύξηση που έχουμε στα 100.  \n",
    "Ποσοστό μείωσης % είναι η μείωση που έχουμε στα 100."
   ]
  },
  {
   "cell_type": "markdown",
   "id": "00e8d267-f769-462f-a482-65d6f6c295dc",
   "metadata": {},
   "source": [
    "|        Ονομασία        |  Αρχική τιμή |       Μεταβολή      |   Τελική τιμή  |\n",
    "|------------------------|--------------|---------------------|----------------|\n",
    "| Αύξηση 20% σημαίνει:   | Σε κάθε 100  | Η αύξηση είναι 20   | Άρα έχουμε 120 |\n",
    "| Μείωση 15% σημαίνει:   | Σε κάθε 100  | Η μείωση είναι 15   | Άρα έχουμε 85  |\n",
    "| Έκπτωση 10% σημαίνει:  | Σε κάθε 100€ | Η έκπτωση είναι 10€ | Άρα έχουμε 90€ ||. \r\n"
   ]
  },
  {
   "cell_type": "markdown",
   "id": "7201c3cc-4212-4bfb-8c78-f76adcfef279",
   "metadata": {},
   "source": [
    "## Προβλήματα με ποσοστά"
   ]
  },
  {
   "cell_type": "markdown",
   "id": "630d6e98-ee91-4f2d-bce4-5c7d57c3748c",
   "metadata": {},
   "source": [
    "Στα προβλήματα με ποσοστά θα χρησιμοποιήσουμε τους παρακάτω τύπους:\n",
    "\n",
    "ΑΤ = Αρχική τιμή\n",
    "\n",
    "ΤΤ = Τελική τιμή  \n",
    "\n",
    "-----------------------\n",
    "\n",
    "Έκπτωση = ΑΤ – ΤΤ  \n",
    "\n",
    "Αύξηση = ΤΤ – ΑΤ  \n",
    "\n",
    "-----------------------\n",
    "\n",
    "Ποσοστό έκπτωσης = Έκπτωση/ΑΤ  \n",
    "Ποσοστό αύξησης = Αύξηση/ΑΤ  \n",
    "\n",
    "- Δηλαδή, για να βρούμε το ποσοστό % πρέπει να ξέρουμε την αρχική τιμή και τη συνολική αύξηση ή μείωση στην αρχική τιμή.  "
   ]
  },
  {
   "cell_type": "markdown",
   "id": "657c85b8-4de7-4675-9447-4e1a94376022",
   "metadata": {},
   "source": [
    "## Τραπεζικές Καταθέσεις"
   ]
  },
  {
   "cell_type": "markdown",
   "id": "bf48ccc5-d894-4ef7-bdb0-da8e28020d59",
   "metadata": {},
   "source": [
    "**Τόκος (Τ)** λέγεται το κέρδος που έχει κάποιος/α όταν καταθέτει **χρήματα/κεφάλαιο (Κ)** σε κάποια τράπεζα.  \n",
    "Δηλαδή, μπορούμε να πούμε ότι ο Τόκος είναι το δώρο μιας τράπεζας προς τον καταθέτη.  "
   ]
  },
  {
   "cell_type": "markdown",
   "id": "b7d8600a-8cfa-4847-addf-e464e5c10a31",
   "metadata": {},
   "source": [
    "**Επιτόκιο (ε%)** είναι ο τόκος των 100€ για ένα έτος. "
   ]
  },
  {
   "attachments": {
    "64e9c9d1-61c2-4c34-9387-a40ae2752cfa.png": {
     "image/png": "[encoded data removed]"
    }
   },
   "cell_type": "markdown",
   "id": "5761f4f7-1402-466d-aaf1-4a1181648b3c",
   "metadata": {},
   "source": [
    "![image.png](attachment:64e9c9d1-61c2-4c34-9387-a40ae2752cfa.png)\n"
   ]
  },
  {
   "cell_type": "markdown",
   "id": "6064db52-d0b3-4f89-b4fa-af3ad0ee2d59",
   "metadata": {},
   "source": [
    "Έτσι, εάν καταθέσουμε Κεφάλαιο Κ στην τράπεζα με επιτόκιο ε%, σε 1 έτος τα χρήματα μας θα έχουν αυξηθεί σε Κ + Τ, δηλαδή θα έχουμε το Κεφάλαιο + Τόκο."
   ]
  },
  {
   "cell_type": "markdown",
   "id": "16b712fa-2de9-440c-a871-091b791e4866",
   "metadata": {},
   "source": [
    "Τόκος = ε/100 * Κ  \n",
    "\n",
    "Το κεφάλαιο μετά από 1 έτος: Κ = Κ + Τ"
   ]
  },
  {
   "cell_type": "markdown",
   "id": "ca789d54-5546-414b-a775-4a54b17e9d18",
   "metadata": {},
   "source": [
    "- Στα προβλήματα με **Φόρο Προστιθέμενης Αξίας (ΦΠΑ)** \n",
    "πρέπει να έχουμε υπόψη μας τα παρακάτω  \n",
    " Καθαρή Αξία = Καθαρή Αξία + ΦΠΑ\r\n"
   ]
  },
  {
   "attachments": {
    "6e80b51e-9e8c-4ff5-aae5-a7d489dd0b52.png": {
     "image/png": "[encoded data removed]"
    }
   },
   "cell_type": "markdown",
   "id": "a69f8bb6-3a5d-4396-a1bb-87b32f50af69",
   "metadata": {},
   "source": [
    "![image.png](attachment:6e80b51e-9e8c-4ff5-aae5-a7d489dd0b52.png)\n"
   ]
  },
  {
   "cell_type": "markdown",
   "id": "717f63ff-544d-4280-9787-015d711afe52",
   "metadata": {},
   "source": [
    "Αν για ένα προϊόν ο συντελεστής ΦΠΑ είναι α% τότε ο ΦΠΑ που αντιστοιχεί στο προϊόν αυτό είναι:  \n",
    "\n",
    "ΦΠΑ = α/100 * Καθαρή Αξία  \n"
   ]
  },
  {
   "cell_type": "markdown",
   "id": "14aa1bf8-dc14-4be3-8565-a1545cfb1bd6",
   "metadata": {},
   "source": [
    "- Τέλος, για να βρούμε την άγνωστη τιμή στα προβλήματα ποσοστών, αρκεί να γνωρίζουμε 2 τιμές.  \n",
    "\n",
    "Έτσι, έχουμε 3 κατηγορίες προβλημάτων με ποσοστά.  \n"
   ]
  },
  {
   "cell_type": "markdown",
   "id": "f8601ca5-1510-4d94-9338-a2580f2eaabb",
   "metadata": {},
   "source": [
    "# Δραστηριότητα 3"
   ]
  },
  {
   "cell_type": "markdown",
   "id": "dca5729f-662e-4369-adf6-11cd595f0832",
   "metadata": {},
   "source": [
    "Στη δραστηριότητα αυτή, φαίνεται η προσπάθεια ενός/μίας καινούριου/ας εργαζόμενου/ης να φτιάξει ένα πρόγραμμα σε Python.  \n",
    "Ο/Η εργαζόμενος/η αυτός/η έχει μπερδευτεί και δεν μπορεί να ολοκληρώσει τα προγράμματά του. 😵  \n",
    "Μπορείς να τον/η βοηθήσεις; "
   ]
  },
  {
   "cell_type": "markdown",
   "id": "e8231211-62c4-402e-93c9-ba1050d41d1c",
   "metadata": {},
   "source": [
    "## 1η Κατηγορία"
   ]
  },
  {
   "cell_type": "markdown",
   "id": "3726b369-2fdb-48f2-be64-89c8553790be",
   "metadata": {},
   "source": [
    "- Δεδομένα: ΑΤ και Ποσοστό%  \n",
    "\n",
    "- Ζητούμενα: ΤΤ  \n"
   ]
  },
  {
   "cell_type": "markdown",
   "id": "b17b80cd-40eb-42bb-94d2-3084b826f4c3",
   "metadata": {},
   "source": [
    "### 1ο πρόβλημα"
   ]
  },
  {
   "cell_type": "markdown",
   "id": "14b9fc20-b0c6-4896-9c8c-3fc92df07c3b",
   "metadata": {},
   "source": [
    "Μια μπλούζα στοίχιζε 40€.  \n",
    "Μου κάνουν έκπτωση 15%.  \n",
    "\n",
    "Μπορείς να ολοκληρώσεις το παρακάτω πρόγραμμα, ώστε να υπολογίζει το ποσό που θα πληρώσω στο ταμείο για να την αγοράσω;  \n"
   ]
  },
  {
   "cell_type": "code",
   "execution_count": 2,
   "id": "98033ed9-993f-4a22-9977-ae3617ba6051",
   "metadata": {},
   "outputs": [
    {
     "name": "stdout",
     "output_type": "stream",
     "text": [
      "Η τελική τιμή είναι: 0\n"
     ]
    }
   ],
   "source": [
    "# Δεδομένα\n",
    "ΑΤ = 0\n",
    "ποσοστο_εκπτωσης = 0\n",
    "\n",
    "# Υπολογισμός τελικής τιμής\n",
    "εκπτωση = 0\n",
    "\n",
    "ΤΤ = 0\n",
    "\n",
    "# Εμφάνιση αποτελέσματος\n",
    "print(f\"Η τελική τιμή είναι: {ΤΤ}\")"
   ]
  },
  {
   "cell_type": "markdown",
   "id": "5f2b4d7b-b7c2-4f6b-a72a-6c0089dda9ba",
   "metadata": {},
   "source": [
    "### 2ο πρόβλημα"
   ]
  },
  {
   "cell_type": "markdown",
   "id": "e1a8c83c-d1e1-420a-9610-b2154e30d457",
   "metadata": {},
   "source": [
    "Καταθέτουμε στην τράπεζα 5.000€ με επιτόκιο 4%.  \n",
    "\n",
    "Μπορείς να ολοκληρώσεις το παρακάτω πρόγραμμα, ώστε να υπολογίζει πόσα χρήματα θα \n",
    "πάρουμε μετά από 1 έτος αν κάνουμε ανάληψη όλων των χρημάτων  ;\r\n",
    "\n"
   ]
  },
  {
   "cell_type": "code",
   "execution_count": 8,
   "id": "5d795383-0c78-4b3c-bb90-03ffc1e22681",
   "metadata": {},
   "outputs": [
    {
     "name": "stdout",
     "output_type": "stream",
     "text": [
      "Το ποσό αναληψης είναι: 0\n"
     ]
    }
   ],
   "source": [
    "# Δεδομένα\n",
    "κεφαλαιο = 0\n",
    "επιτοκιο = 0\n",
    "\n",
    "# Υπολογισμός ποσού ανάληψης\n",
    "τοκος = 0\n",
    "\n",
    "ποσο_αναληψης = 0\n",
    "\n",
    "# Εμφάνιση αποτελέσματος\n",
    "print(f\"Το ποσό αναληψης είναι: {ποσο_αναληψης}\")"
   ]
  },
  {
   "cell_type": "markdown",
   "id": "e53cae6b-70a7-4570-a5a0-c9e5d2687711",
   "metadata": {},
   "source": [
    "## 2η Κατηγορία"
   ]
  },
  {
   "cell_type": "markdown",
   "id": "5595f140-2ad7-4233-ae47-e12a0af1a1be",
   "metadata": {},
   "source": [
    "- Δεδομένα: ΑΤ και ΤΤ  \n",
    "\n",
    "- Ζητούμενα: Ποσοστό%  \n"
   ]
  },
  {
   "cell_type": "markdown",
   "id": "4b4ce783-eb22-446c-b9e7-92418d73c2e3",
   "metadata": {},
   "source": [
    "### 3ο πρόβλημα"
   ]
  },
  {
   "cell_type": "markdown",
   "id": "7bc09cab-c6d4-4259-9907-0683ce02e2c2",
   "metadata": {},
   "source": [
    "Μια μπάλα ποδοσφαίρου πουλιόταν 50€.  \n",
    "Κατά τη διάρκεια των εκπτώσεων η τιμή της έγινε 44€.  \n",
    " \n",
    "Μπορείς να ολοκληρώσεις το παρακάτω πρόγραμμα, ώστε να υπολογίζει το ποσοστό της έκπτωσης;  \n"
   ]
  },
  {
   "cell_type": "code",
   "execution_count": 11,
   "id": "1017705b-239b-48bc-b5ec-a2c365455400",
   "metadata": {},
   "outputs": [
    {
     "name": "stdout",
     "output_type": "stream",
     "text": [
      "Το ποσοστό έκπτωσης είναι: 0\n"
     ]
    }
   ],
   "source": [
    "# Δεδομένα\n",
    "ΑΤ = 0\n",
    "ΤΤ = 0\n",
    "\n",
    "# Υπολογισμός ποσοστού έκπτωσης\n",
    "εκπτωση = 0\n",
    "\n",
    "ποσοστο_εκπτωσης = 0\n",
    "\n",
    "# Εμφάνιση αποτελέσματος\n",
    "print(f\"Το ποσοστό έκπτωσης είναι: {ποσοστο_εκπτωσης}\")"
   ]
  },
  {
   "cell_type": "markdown",
   "id": "2b17a252-54b8-4dc3-a7b2-e25f6072a0b4",
   "metadata": {},
   "source": [
    "### 4ο πρόβλημα"
   ]
  },
  {
   "cell_type": "markdown",
   "id": "bf2b4e5d-7923-40fc-ab8f-fb0bd3246d7b",
   "metadata": {},
   "source": [
    "Για ένα προϊόν καθαρής αξίας 1.695€ πληρώσαμε με το ΦΠΑ 2.000€.  \n",
    "\n",
    "Μπορείς να ολοκληρώσεις το παρακάτω πρόγραμμα, ώστε να υπολογίζει τον συντελεστή ΦΠΑ;  \n"
   ]
  },
  {
   "cell_type": "code",
   "execution_count": 10,
   "id": "493b0a99-8534-40b7-9fbc-6fccb850c762",
   "metadata": {},
   "outputs": [
    {
     "name": "stdout",
     "output_type": "stream",
     "text": [
      "Ο συντελεστής ΦΠΑ είναι: 0\n"
     ]
    }
   ],
   "source": [
    "# Δεδομένα\n",
    "καθαρη_αξια = 0\n",
    "τιμη_πωλησης = 0\n",
    "\n",
    "# Υπολογισμός συντελεστή ΦΠΑ\n",
    "ΦΠΑ = 0\n",
    "\n",
    "συντελεστης_ΦΠΑ = 0\n",
    "\n",
    "# Εμφάνιση αποτελέσματος\n",
    "print(f\"Ο συντελεστής ΦΠΑ είναι: {συντελεστης_ΦΠΑ}\")"
   ]
  },
  {
   "cell_type": "markdown",
   "id": "0433a2a0-5f2a-485d-bd2d-3bafda9906bf",
   "metadata": {},
   "source": [
    "## 3η Κατηγορία"
   ]
  },
  {
   "cell_type": "markdown",
   "id": "d86a2453-0ed8-4305-87a3-758c37327641",
   "metadata": {},
   "source": [
    "- Δεδομένα: ΤΤ και Ποσοστό%  \n",
    "\n",
    "- Ζητούμενα: ΑΤ  \n"
   ]
  },
  {
   "cell_type": "markdown",
   "id": "0ad6f296-1347-45c9-aec3-732785edab48",
   "metadata": {},
   "source": [
    "### 5ο πρόβλημα"
   ]
  },
  {
   "cell_type": "markdown",
   "id": "8123c589-f22f-45c6-8248-e5484c9aba40",
   "metadata": {},
   "source": [
    "Αγοράσαμε ένα USB memory stick με έκπτωση 15% και πληρώσαμε 17€.  \n",
    "\n",
    "Μπορείς να ολοκληρώσεις το παρακάτω πρόγραμμα, ώστε να υπολογίζει την αρχική τιμή του USB;  \n"
   ]
  },
  {
   "cell_type": "code",
   "execution_count": 13,
   "id": "1c2cd1ab-efc2-4597-a786-7c324421c738",
   "metadata": {},
   "outputs": [
    {
     "name": "stdout",
     "output_type": "stream",
     "text": [
      "Η αρχική τιμή είναι: 0\n"
     ]
    }
   ],
   "source": [
    "# Δεδομένα\n",
    "ΤΤ = 0\n",
    "ποσοστο_εκπτωσης = 0\n",
    "\n",
    "# Υπολογισμός αρχικής τιμής\n",
    "ποσοστο_πληρωμης = 0\n",
    "ποσοστο_πληρωμης_ΕΠΙ_100 = 0\n",
    "\n",
    "ΑΤ_ΔΙΑ_100 = 0\n",
    "\n",
    "ΑΤ = 0\n",
    "\n",
    "# Εμφάνιση αποτελέσματος\n",
    "print(f\"Η αρχική τιμή είναι: {ΑΤ}\")"
   ]
  },
  {
   "cell_type": "markdown",
   "id": "bf5e187b-ed2b-4bcc-8963-ac48711da6c9",
   "metadata": {},
   "source": [
    "### 6ο πρόβλημα"
   ]
  },
  {
   "cell_type": "markdown",
   "id": "bcaa2c29-0ac1-4f3b-bf7b-f92e6591a6a3",
   "metadata": {},
   "source": [
    "Αγοράσαμε ένα ψυγείο με συντελεστή ΦΠΑ 18% και πληρώσαμε 1.416€.  \n",
    " \n",
    "Μπορείς να ολοκληρώσεις το παρακάτω πρόγραμμα, ώστε να υπολογίζει πόσο κόστιζε χωρίς τον ΦΠΑ;  \n"
   ]
  },
  {
   "cell_type": "code",
   "execution_count": 17,
   "id": "746f7c6e-b768-4d46-b934-3a66cff5b5a8",
   "metadata": {},
   "outputs": [
    {
     "name": "stdout",
     "output_type": "stream",
     "text": [
      "Η καθαρή αξία είναι: 0\n"
     ]
    }
   ],
   "source": [
    "# Δεδομένα\n",
    "τιμη_πωλησης = 0\n",
    "συντελεστης_ΦΠΑ = 0\n",
    "\n",
    "# Υπολογισμός καθαρής αξίας\n",
    "ποσοστο_πωλησης = 0\n",
    "ποσοσστο_πωλησης_ΕΠΙ_100 = 0\n",
    "\n",
    "ΚΑ_ΔΙΑ_100 = 0\n",
    "\n",
    "ΚΑ = 0\n",
    "\n",
    "# Εμφάνιση αποτελέσματος\n",
    "print(f\"Η καθαρή αξία είναι: {ΚΑ}\")"
   ]
  },
  {
   "cell_type": "markdown",
   "id": "3b71832a-a4bd-4060-b22e-1cd595651df8",
   "metadata": {},
   "source": [
    "# Δραστηριότητα 4"
   ]
  },
  {
   "cell_type": "markdown",
   "id": "52969342-c85c-4007-9c1d-686768e5793a",
   "metadata": {},
   "source": [
    "- Αφού εξασκηθήκαμε στα ποσοστά ήρθε η ώρα να με βοηθήσεις με την έρευνά μου!  \n",
    "Θα ήθελα να απαντήσεις σε μερικές ερωτήσεις, με βάση τη σημερινή σου εμπειρία."
   ]
  },
  {
   "cell_type": "code",
   "execution_count": 10,
   "id": "e899da4a-4fb6-49a0-ab29-1de5688646e9",
   "metadata": {},
   "outputs": [
    {
     "data": {
      "text/html": [
       "<iframe src=\"https://docs.google.com/forms/d/e/1FAIpQLSdZUYgveEnM6pn7OGLQ8MwJxqgm-PuH0qdZKMtY6XO0Hab9RA/viewform?embedded=true\" width=\"1000\" height=\"1000\" frameborder=\"0\" marginheight=\"0\" marginwidth=\"0\">Φόρτωση…</iframe>\n"
      ],
      "text/plain": [
       "<IPython.core.display.HTML object>"
      ]
     },
     "metadata": {},
     "output_type": "display_data"
    }
   ],
   "source": [
    "%%html\n",
    "<iframe src=\"https://docs.google.com/forms/d/e/1FAIpQLSdZUYgveEnM6pn7OGLQ8MwJxqgm-PuH0qdZKMtY6XO0Hab9RA/viewform?embedded=true\" width=\"1000\" height=\"1000\" frameborder=\"0\" marginheight=\"0\" marginwidth=\"0\">Φόρτωση…</iframe>"
   ]
  },
  {
   "cell_type": "markdown",
   "id": "7c94e372-20bd-4b98-9207-8eba402e4937",
   "metadata": {},
   "source": [
    "Σε ευχαριστώ πάρα πολύ! 💖  \n",
    "Το σημερινό μάθημα ήταν πολύ σημαντικό για μένα.  "
   ]
  },
  {
   "cell_type": "code",
   "execution_count": null,
   "id": "4f0dfe05-105a-4818-ac40-c9c6e56c57da",
   "metadata": {},
   "outputs": [],
   "source": []
  }
 ],
 "metadata": {
  "kernelspec": {
   "display_name": "Python 3 (ipykernel)",
   "language": "python",
   "name": "python3"
  },
  "language_info": {
   "codemirror_mode": {
    "name": "ipython",
    "version": 3
   },
   "file_extension": ".py",
   "mimetype": "text/x-python",
   "name": "python",
   "nbconvert_exporter": "python",
   "pygments_lexer": "ipython3",
   "version": "3.11.7"
  }
 },
 "nbformat": 4,
 "nbformat_minor": 5
}
