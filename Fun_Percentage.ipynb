{
 "cells": [
  {
   "cell_type": "markdown",
   "id": "3377d12d-b9bb-4743-9f7a-f89b0a8221e1",
   "metadata": {},
   "source": [
    "# Εισαγωγή #"
   ]
  },
  {
   "cell_type": "markdown",
   "id": "0d814d7f-7469-4ba2-acdb-bf284765032f",
   "metadata": {},
   "source": [
    "Καλωσορίσατε σε αυτό το ιδιαίτερο βιβλίο. 📖\n",
    "\n",
    "Με το βιβλίο αυτό, θα κάνουμε μία επανάληψη στον κόσμο των ποσοστών! 🤩"
   ]
  },
  {
   "cell_type": "markdown",
   "id": "23634f53-0420-44f4-b8e3-e331cd668257",
   "metadata": {},
   "source": [
    "## Τι θα μάθουμε σε αυτό το βιβλίο; ##"
   ]
  },
  {
   "cell_type": "markdown",
   "id": "a44b573b-ee02-4d04-bf04-b6b51833ca74",
   "metadata": {},
   "source": [
    "Σε αυτό το βιβλίο, θα θυμηθούμε:  \n",
    "\n",
    "✔ Τι είναι τα ποσοστά.  \n",
    "✔ Πώς υπολογίζονται τα ποσοστά.  \n",
    "✔ Πώς να μετατρέπουμε δεδομένα σε ποσοστά και αντίστροφα.  \n",
    "✔ Πώς να λύνουμε προβλήματα που σχετίζονται με ποσοστά.  \n",
    "✔ Να χρησιμοποιούμε τον προγραμματισμό για να λύσουμε προβλήματα με ποσοστά.  \n",
    "\n",
    "Είστε έτοιμοι να ξεκινήσουμε; 🙌🙌"
   ]
  },
  {
   "cell_type": "markdown",
   "id": "386ed610-4004-4f35-9535-e3fdce614c9b",
   "metadata": {},
   "source": [
    "# Εισαγωγική δραστηριότητα - Δραστηριότητα 0 #"
   ]
  },
  {
   "cell_type": "markdown",
   "id": "0d4eab8a-2141-44fd-853e-ab6eeff124d0",
   "metadata": {},
   "source": [
    "## Ας αναλογιστούμε... ##"
   ]
  },
  {
   "cell_type": "markdown",
   "id": "b06188b3-07a0-443e-a61d-84a4d8468ccc",
   "metadata": {},
   "source": [
    "Σε πολλές περιπτώσεις της καθημερινής μας ζωής ακούμε εκφράσεις όπως τις παρακάτω.  \n",
    "\n",
    "Προσπάθησε να εξηγήσεις τι ακριβώς εννοούμε κάθε φορά με αυτές τις εκφράσεις.υτές τις εκφράσεις."
   ]
  },
  {
   "cell_type": "markdown",
   "id": "24497939-02f9-47c1-bb2a-bf6628fa539f",
   "metadata": {},
   "source": [
    "- Πήρε αύξηση 14%."
   ]
  },
  {
   "cell_type": "markdown",
   "id": "02eadd70-bcfe-4e4c-bb65-bfa5f8596b79",
   "metadata": {},
   "source": [
    "Απάντηση:"
   ]
  },
  {
   "cell_type": "markdown",
   "id": "ece46d40-755b-428a-ad2f-820d568ecd86",
   "metadata": {},
   "source": [
    "- Ένα μαγαζί έκανε εκπτώσεις 60%."
   ]
  },
  {
   "cell_type": "markdown",
   "id": "19f65ae3-0851-4c53-a647-52d271597b08",
   "metadata": {},
   "source": [
    "Απάντηση:"
   ]
  },
  {
   "cell_type": "markdown",
   "id": "e65e2d69-909e-4cbc-bf3a-d31040b80042",
   "metadata": {},
   "source": [
    "\n",
    "- Η ευρύτερη περιοχή της Αθήνας καταλαμβάνει το 3% της έκτασης της Ελλάδας και εκεί κατοικεί το 45% του πληθυσμού της Ελλάδας."
   ]
  },
  {
   "cell_type": "markdown",
   "id": "43fa4930-5f9f-4451-ab02-2e83db953e20",
   "metadata": {},
   "source": [
    "Απάντηση:"
   ]
  },
  {
   "cell_type": "markdown",
   "id": "bdde3707-9637-461f-9682-8b87a016fc8e",
   "metadata": {},
   "source": [
    "- Το 40% των υποψηφίων έγραψαν πολύ καλά και το 35% κάτω από τη βάση."
   ]
  },
  {
   "cell_type": "markdown",
   "id": "d82b9fda-0f1f-472a-a45f-d650ba358d55",
   "metadata": {},
   "source": [
    "Απάντηση:"
   ]
  },
  {
   "cell_type": "markdown",
   "id": "30625d5d-5dff-4db1-9fa7-1ff5d8962aca",
   "metadata": {},
   "source": [
    "- Φόρος Προστιθέμενης Αξίας (ΦΠΑ) 19%."
   ]
  },
  {
   "cell_type": "markdown",
   "id": "e92f68e6-8516-4bfb-af2e-337c1c22b62f",
   "metadata": {},
   "source": [
    "Απάντηση:"
   ]
  },
  {
   "cell_type": "markdown",
   "id": "9c314ecb-2130-486a-abf8-ffb7fff2cea1",
   "metadata": {},
   "source": [
    "## Ας θυμηθούμε... ##"
   ]
  },
  {
   "cell_type": "code",
   "execution_count": 34,
   "id": "331c58e8-5122-492b-99fb-b1f1cecb45da",
   "metadata": {},
   "outputs": [
    {
     "data": {
      "text/html": [
       "<iframe width=\"1000\" height=\"500\" src=\"https://www.youtube.com/embed/jXN-Hbjc1bU?si=MavzntOaiyCFNytG\" title=\"YouTube video player\" frameborder=\"0\" allow=\"accelerometer; autoplay; clipboard-write; encrypted-media; gyroscope; picture-in-picture; web-share\" referrerpolicy=\"strict-origin-when-cross-origin\" allowfullscreen></iframe>\n"
      ],
      "text/plain": [
       "<IPython.core.display.HTML object>"
      ]
     },
     "metadata": {},
     "output_type": "display_data"
    }
   ],
   "source": [
    "%%html\n",
    "<iframe width=\"1000\" height=\"500\" src=\"https://www.youtube.com/embed/jXN-Hbjc1bU?si=MavzntOaiyCFNytG\" title=\"YouTube video player\" frameborder=\"0\" allow=\"accelerometer; autoplay; clipboard-write; encrypted-media; gyroscope; picture-in-picture; web-share\" referrerpolicy=\"strict-origin-when-cross-origin\" allowfullscreen></iframe>"
   ]
  },
  {
   "cell_type": "markdown",
   "id": "61b54135-d7fe-47d9-b351-5adba36364c2",
   "metadata": {},
   "source": [
    "# Δραστηριότητα 1 #"
   ]
  },
  {
   "cell_type": "markdown",
   "id": "0b4a3dda-c87d-4723-b989-677565527b72",
   "metadata": {},
   "source": [
    "..."
   ]
  },
  {
   "cell_type": "code",
   "execution_count": 31,
   "id": "f99c9645-60cc-431e-a8b0-ee1dda6e0cb1",
   "metadata": {},
   "outputs": [
    {
     "data": {
      "text/html": [
       "<iframe src=\"https://www.geogebra.org/classic/heymhusq?embed\" width=\"1100\" height=\"600\" allowfullscreen style=\"border: 1px solid #e4e4e4;border-radius: 4px;\" frameborder=\"0\"></iframe>\n"
      ],
      "text/plain": [
       "<IPython.core.display.HTML object>"
      ]
     },
     "metadata": {},
     "output_type": "display_data"
    }
   ],
   "source": [
    "%%html\n",
    "<iframe src=\"https://www.geogebra.org/classic/heymhusq?embed\" width=\"1100\" height=\"600\" allowfullscreen style=\"border: 1px solid #e4e4e4;border-radius: 4px;\" frameborder=\"0\"></iframe>"
   ]
  },
  {
   "cell_type": "markdown",
   "id": "359ed824-4465-46a8-854d-a3749befd106",
   "metadata": {},
   "source": [
    "..."
   ]
  },
  {
   "cell_type": "markdown",
   "id": "4875d074-49b6-49b5-a1c2-0f45987b2a26",
   "metadata": {},
   "source": [
    "..."
   ]
  },
  {
   "cell_type": "code",
   "execution_count": 27,
   "id": "508a8d8e-13c2-4733-84d8-33b71cfa1087",
   "metadata": {},
   "outputs": [
    {
     "data": {
      "text/html": [
       "<iframe src=\"https://www.geogebra.org/classic/razhxpcm?embed\" width=\"800\" height=\"600\" allowfullscreen style=\"border: 1px solid #e4e4e4;border-radius: 4px;\" frameborder=\"0\"></iframe>\n"
      ],
      "text/plain": [
       "<IPython.core.display.HTML object>"
      ]
     },
     "metadata": {},
     "output_type": "display_data"
    }
   ],
   "source": [
    "%%html\n",
    "<iframe src=\"https://www.geogebra.org/classic/razhxpcm?embed\" width=\"800\" height=\"600\" allowfullscreen style=\"border: 1px solid #e4e4e4;border-radius: 4px;\" frameborder=\"0\"></iframe>"
   ]
  },
  {
   "cell_type": "markdown",
   "id": "c8908662-7e73-4f0e-a8e8-dfa7d86ae187",
   "metadata": {},
   "source": [
    "..."
   ]
  },
  {
   "cell_type": "markdown",
   "id": "0028d580-9467-4b62-b390-af7f776adb15",
   "metadata": {},
   "source": [
    "# Δραστηριότητα 2 #"
   ]
  },
  {
   "cell_type": "markdown",
   "id": "cb4319a5-a692-4efe-b03c-43a99252182d",
   "metadata": {},
   "source": [
    "..."
   ]
  },
  {
   "cell_type": "code",
   "execution_count": 28,
   "id": "a631cd2f-549b-4d6c-9b22-0a0f8d251aa6",
   "metadata": {},
   "outputs": [
    {
     "data": {
      "text/html": [
       "<iframe src=\"https://scratch.mit.edu/projects/990879857/embed\" allowtransparency=\"true\" width=\"485\" height=\"402\" frameborder=\"0\" scrolling=\"no\" allowfullscreen></iframe>\n"
      ],
      "text/plain": [
       "<IPython.core.display.HTML object>"
      ]
     },
     "metadata": {},
     "output_type": "display_data"
    }
   ],
   "source": [
    "%%html\n",
    "<iframe src=\"https://scratch.mit.edu/projects/990879857/embed\" allowtransparency=\"true\" width=\"485\" height=\"402\" frameborder=\"0\" scrolling=\"no\" allowfullscreen></iframe>"
   ]
  },
  {
   "cell_type": "markdown",
   "id": "65d93aed-c9f4-460a-8898-f54bc5cb8294",
   "metadata": {},
   "source": [
    "Πάτα **[εδώ](https://scratch.mit.edu/projects/990879857)** για να δεις τον κώδικα του έργου αυτού."
   ]
  },
  {
   "cell_type": "markdown",
   "id": "f8601ca5-1510-4d94-9338-a2580f2eaabb",
   "metadata": {},
   "source": [
    "# Δραστηριότητα 3 #"
   ]
  },
  {
   "cell_type": "markdown",
   "id": "dca5729f-662e-4369-adf6-11cd595f0832",
   "metadata": {},
   "source": [
    "- Στη δραστηριότητα που ακολουθεί, φαίνεται η προσπάθεια ενός καινούριου εργαζόμενου να φτιάξει ένα πρόγραμμα σε Python, το οποίο υπολογίζει την τελική τιμή των προϊόντων που έχουν έκπτωση. Ο εργαζόμενος αυτός έχει μπερδευτεί και δεν μπορεί να φτιάξει ένα τύπο υπολογισμού της τελικής τιμής. 😵  \n",
    "Μπορείς να τον βοηθήσεις; "
   ]
  },
  {
   "cell_type": "code",
   "execution_count": 13,
   "id": "98033ed9-993f-4a22-9977-ae3617ba6051",
   "metadata": {},
   "outputs": [
    {
     "name": "stdout",
     "output_type": "stream",
     "text": [
      "Η τελική τιμή μετά την έκπτωση είναι: 0\n"
     ]
    }
   ],
   "source": [
    "αρχικη_τιμη = 100\n",
    "ποσοστο_εκπτωσης = 20\n",
    "\n",
    "τελικη_τιμη = 0\n",
    "\n",
    "print(f\"Η τελική τιμή μετά την έκπτωση είναι: {τελικη_τιμη}\")"
   ]
  },
  {
   "cell_type": "markdown",
   "id": "7bdd3e7b-9377-4633-8568-a51fe9fdde40",
   "metadata": {},
   "source": [
    "- Στη συνέχεια ακολουθεί παρόμοιο πρόγραμμα, με τη διαφορά ότι την αρχική τιμή και το ποσοστό έκπτωσης την πληκτρολογεί κάθε φορά ο χρήστης.  \n",
    "Συμπλήρωσε και πάλι την τελική τιμή και τρέξε το πρόγραμμα."
   ]
  },
  {
   "cell_type": "code",
   "execution_count": 14,
   "id": "8fa99b48-53f1-4a5f-a16c-6d1066c40ff5",
   "metadata": {},
   "outputs": [
    {
     "name": "stdin",
     "output_type": "stream",
     "text": [
      "Δώστε την αρχική τιμή:  10\n",
      "Δώστε το ποσοστό έκπτωσης:  10\n"
     ]
    },
    {
     "name": "stdout",
     "output_type": "stream",
     "text": [
      "Η τελική τιμή μετά την έκπτωση είναι: 0\n"
     ]
    }
   ],
   "source": [
    "αρχικη_τιμη = int(input(\"Δώστε την αρχική τιμή: \"))\n",
    "ποσοστο_εκπτωσης = int(input(\"Δώστε το ποσοστό έκπτωσης: \"))\n",
    "\n",
    "τελικη_τιμη = 0\n",
    "\n",
    "print(f\"Η τελική τιμή μετά την έκπτωση είναι: {τελικη_τιμη}\")"
   ]
  },
  {
   "cell_type": "markdown",
   "id": "6708d4ce-a235-448b-b731-33beed0a94ee",
   "metadata": {},
   "source": [
    "- Ας προσπαθήσουμε να βάλουμε στην αρχική τιμή δεκαδικό αριθμό.  "
   ]
  },
  {
   "cell_type": "markdown",
   "id": "f8a36c23-b725-403b-a843-a2ddca6227b9",
   "metadata": {},
   "source": [
    "- Τι συμβαίνει;"
   ]
  },
  {
   "cell_type": "markdown",
   "id": "f9f3677a-646c-4833-98fb-cfbec40d280e",
   "metadata": {},
   "source": [
    "🌐 Μπορείς να ψάξεις στο διαδίκτυο πως λέγεται ο δεκαδικός αριθμός στον προγραμματισμό;"
   ]
  },
  {
   "cell_type": "markdown",
   "id": "f34f5ff4-d34e-4ae3-9e83-dfdb11796ca7",
   "metadata": {},
   "source": [
    "- Στο παρακάτω μπλοκ κώδικα μπορείς να κάνεις τις αλλαγές ώστε ο χρήστης να μπορεί να πληκτρολογήσει και δεκαδικούς αριθμούς;"
   ]
  },
  {
   "cell_type": "code",
   "execution_count": 23,
   "id": "b91bb4f0-ac09-409d-b2d0-3b16dde54979",
   "metadata": {},
   "outputs": [
    {
     "name": "stdout",
     "output_type": "stream",
     "text": [
      "Η τελική τιμή μετά την έκπτωση είναι: 0\n"
     ]
    }
   ],
   "source": [
    "αρχικη_τιμη = 0\n",
    "ποσοστο_εκπτωσης = 0\n",
    "\n",
    "τελικη_τιμη = 0\n",
    "\n",
    "print(f\"Η τελική τιμή μετά την έκπτωση είναι: {τελικη_τιμη}\")"
   ]
  },
  {
   "cell_type": "markdown",
   "id": "4b2840bf-c22d-4a6b-b863-06841846bc31",
   "metadata": {},
   "source": [
    "- Μπορείς να φτιάξεις έναν κώδικα για τον υπολογισμό της τιμής ενός προϊόντος μετά την προσαύξηση του ΦΠΑ; 🙏"
   ]
  },
  {
   "cell_type": "code",
   "execution_count": 24,
   "id": "a8e5c702-534e-4d54-beb5-5c47b287f5a0",
   "metadata": {},
   "outputs": [
    {
     "name": "stdout",
     "output_type": "stream",
     "text": [
      "Η τελική τιμή μετά τον ΦΠΑ είναι: 0\n"
     ]
    }
   ],
   "source": [
    "αρχικη_τιμη = 0\n",
    "ΦΠΑ = 0\n",
    "\n",
    "τελικη_τιμη = 0\n",
    "\n",
    "print(f\"Η τελική τιμή μετά τον ΦΠΑ είναι: {τελικη_τιμη}\")"
   ]
  },
  {
   "cell_type": "markdown",
   "id": "6bfc5efc-c7fa-4f35-9e09-0699a307aa1e",
   "metadata": {},
   "source": [
    "# Δραστηριότητα 4 #"
   ]
  },
  {
   "cell_type": "markdown",
   "id": "52969342-c85c-4007-9c1d-686768e5793a",
   "metadata": {},
   "source": [
    "- Αφού εξασκηθήκαμε στα ποσοστά ήρθε η ώρα να με βοηθήσεις με την έρευνά μου!  \n",
    "Θα ήθελα να απαντήσεις σε μερικές ερωτήσεις, με βάση τη σημερινή σου εμπειρία."
   ]
  },
  {
   "cell_type": "code",
   "execution_count": 37,
   "id": "e899da4a-4fb6-49a0-ab29-1de5688646e9",
   "metadata": {},
   "outputs": [
    {
     "data": {
      "text/html": [
       "<iframe src=\"https://docs.google.com/forms/d/e/1FAIpQLSdZUYgveEnM6pn7OGLQ8MwJxqgm-PuH0qdZKMtY6XO0Hab9RA/viewform?embedded=true\" width=\"1000\" height=\"382\" frameborder=\"0\" marginheight=\"0\" marginwidth=\"0\">Φόρτωση…</iframe>\n"
      ],
      "text/plain": [
       "<IPython.core.display.HTML object>"
      ]
     },
     "metadata": {},
     "output_type": "display_data"
    }
   ],
   "source": [
    "%%html\n",
    "<iframe src=\"https://docs.google.com/forms/d/e/1FAIpQLSdZUYgveEnM6pn7OGLQ8MwJxqgm-PuH0qdZKMtY6XO0Hab9RA/viewform?embedded=true\" width=\"1000\" height=\"382\" frameborder=\"0\" marginheight=\"0\" marginwidth=\"0\">Φόρτωση…</iframe>"
   ]
  },
  {
   "cell_type": "markdown",
   "id": "7c94e372-20bd-4b98-9207-8eba402e4937",
   "metadata": {},
   "source": [
    "Σε ευχαριστώ πάρα πολύ! 💖  \n",
    "Αυτό που κάναμε σήμερα ήταν πολύ σημαντικό για μένα.  "
   ]
  }
 ],
 "metadata": {
  "kernelspec": {
   "display_name": "Python 3 (ipykernel)",
   "language": "python",
   "name": "python3"
  },
  "language_info": {
   "codemirror_mode": {
    "name": "ipython",
    "version": 3
   },
   "file_extension": ".py",
   "mimetype": "text/x-python",
   "name": "python",
   "nbconvert_exporter": "python",
   "pygments_lexer": "ipython3",
   "version": "3.11.7"
  }
 },
 "nbformat": 4,
 "nbformat_minor": 5
}
